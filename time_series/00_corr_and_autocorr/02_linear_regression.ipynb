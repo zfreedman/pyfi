{
 "cells": [
  {
   "cell_type": "markdown",
   "metadata": {},
   "source": [
    "# 02 linear regression\n",
    "Below we'll explore linear regression using the `statsmodels` package. We'll also explore the relationship between correlation and R<sup>2</sup>."
   ]
  },
  {
   "cell_type": "markdown",
   "metadata": {},
   "source": [
    "## imports"
   ]
  },
  {
   "cell_type": "code",
   "execution_count": 2,
   "metadata": {
    "collapsed": false
   },
   "outputs": [],
   "source": [
    "import numpy as np\n",
    "import pandas as pd\n",
    "import matplotlib.pyplot as plt\n",
    "%matplotlib inline\n",
    "from sklearn.linear_model import LinearRegression\n",
    "import pandas_datareader.data as web"
   ]
  },
  {
   "cell_type": "markdown",
   "metadata": {},
   "source": [
    "## data\n",
    "This will be an illogical example, but we will attempt to regress the price of EA Games based on the price of Activision Blizzard."
   ]
  },
  {
   "cell_type": "code",
   "execution_count": 54,
   "metadata": {
    "collapsed": false,
    "scrolled": true
   },
   "outputs": [],
   "source": [
    "start_date = \"2014-01-01\"\n",
    "end_date = \"2018-01-01\"\n",
    "data_source = \"robinhood\"\n",
    "\n",
    "atvi = web.DataReader(\"ATVI\", data_source=data_source, start=start_date, end=end_date)\n",
    "atvi = atvi.drop([\"interpolated\", \"session\"], axis=1)\n",
    "ea = web.DataReader(\"EA\", data_source=data_source, start=start_date, end=end_date)\n",
    "ea = ea.drop([\"interpolated\", \"session\"], axis=1)"
   ]
  },
  {
   "cell_type": "markdown",
   "metadata": {},
   "source": [
    "We could reuse the code cited in the link below to reindex the dataframes indices to datetimes, but using \"robinhood\" as the data_source actually yields datetime indices for `atvi.index.levels[1]` and `ea.index.levels[1]`."
   ]
  },
  {
   "cell_type": "code",
   "execution_count": 22,
   "metadata": {
    "collapsed": false
   },
   "outputs": [],
   "source": [
    "# https://stackoverflow.com/questions/45243291/parse-pandas-multiindex-to-datetime"
   ]
  },
  {
   "cell_type": "markdown",
   "metadata": {},
   "source": [
    "However, it seems that the tradeoff here is that some of the column types for the features are not numeric by default, but of dtype object."
   ]
  },
  {
   "cell_type": "code",
   "execution_count": 55,
   "metadata": {
    "collapsed": false
   },
   "outputs": [
    {
     "data": {
      "text/plain": [
       "symbol  begins_at \n",
       "ATVI    2017-07-05    57.2548\n",
       "        2017-07-06    56.7922\n",
       "        2017-07-07    58.0607\n",
       "        2017-07-10    58.6178\n",
       "        2017-07-11    58.2696\n",
       "Name: high_price, dtype: object"
      ]
     },
     "execution_count": 55,
     "metadata": {},
     "output_type": "execute_result"
    }
   ],
   "source": [
    "atvi[\"high_price\"].head()"
   ]
  },
  {
   "cell_type": "markdown",
   "metadata": {},
   "source": [
    "We'll resolve this using the code from the source provided [here](https://stackoverflow.com/questions/36814100/pandas-to-numeric-for-multiple-columns)."
   ]
  },
  {
   "cell_type": "code",
   "execution_count": 56,
   "metadata": {
    "collapsed": false
   },
   "outputs": [
    {
     "data": {
      "text/plain": [
       "Index(['close_price', 'high_price', 'low_price', 'open_price', 'volume'], dtype='object')"
      ]
     },
     "execution_count": 56,
     "metadata": {},
     "output_type": "execute_result"
    }
   ],
   "source": [
    "cols = atvi.columns\n",
    "cols"
   ]
  },
  {
   "cell_type": "code",
   "execution_count": 57,
   "metadata": {
    "collapsed": true
   },
   "outputs": [],
   "source": [
    "atvi[cols] = atvi[cols].apply(pd.to_numeric, errors=\"coerce\", axis=1)\n",
    "ea[cols] = ea[cols].apply(pd.to_numeric, errors=\"coerce\", axis=1)"
   ]
  },
  {
   "cell_type": "markdown",
   "metadata": {},
   "source": [
    "We can visualize the relationship between these two datasets below. Note here, again, that this is purely hypothetical, and that there are hugely more significant factors that influence EA stock than that of ATVI's."
   ]
  },
  {
   "cell_type": "code",
   "execution_count": 58,
   "metadata": {
    "collapsed": false
   },
   "outputs": [
    {
     "data": {
      "text/plain": [
       "<matplotlib.collections.PathCollection at 0x1152bb9b0>"
      ]
     },
     "execution_count": 58,
     "metadata": {},
     "output_type": "execute_result"
    },
    {
     "data": {
      "image/png": "[encoded data removed]",
      "text/plain": [
       "<matplotlib.figure.Figure at 0x115339cf8>"
      ]
     },
     "metadata": {},
     "output_type": "display_data"
    }
   ],
   "source": [
    "plt.scatter(atvi[\"close_price\"], ea[\"close_price\"])"
   ]
  },
  {
   "cell_type": "markdown",
   "metadata": {},
   "source": [
    "## correlation\n",
    "Let's take a look at the correlation between the two datasets, from both a levels and a % change standpoint. An important thing to note here is that for the multindex we have with both dataframes, `dfA.corr(dfB)` always returns nan. Therefore, below we've reindexed copies of the dataframes (only looking at closing prices) using the [resource from before](https://stackoverflow.com/questions/45243291/parse-pandas-multiindex-to-datetime)."
   ]
  },
  {
   "cell_type": "code",
   "execution_count": 98,
   "metadata": {
    "collapsed": false
   },
   "outputs": [
    {
     "data": {
      "text/plain": [
       "0.82882847010010186"
      ]
     },
     "execution_count": 98,
     "metadata": {},
     "output_type": "execute_result"
    }
   ],
   "source": [
    "atvi_c = pd.DataFrame(atvi[\"close_price\"])\n",
    "atvi_c.index = pd.to_datetime(atvi_c.index.levels[1])\n",
    "\n",
    "ea_c = pd.DataFrame(ea[\"close_price\"])\n",
    "ea_c.index = pd.to_datetime(ea_c.index.levels[1])\n",
    "atvi_c[\"close_price\"].corr(ea_c[\"close_price\"])"
   ]
  },
  {
   "cell_type": "markdown",
   "metadata": {},
   "source": [
    "However, we know that when looking at this data, it's more accurate to look at price differentials as opposed to price levels."
   ]
  },
  {
   "cell_type": "code",
   "execution_count": 99,
   "metadata": {
    "collapsed": false
   },
   "outputs": [
    {
     "data": {
      "text/plain": [
       "0.70298872279955149"
      ]
     },
     "execution_count": 99,
     "metadata": {},
     "output_type": "execute_result"
    }
   ],
   "source": [
    "atvi_c_delta = atvi_c.pct_change()\n",
    "ea_c_delta = ea_c.pct_change()\n",
    "atvi_c_delta[\"close_price\"].corr(ea_c_delta[\"close_price\"])"
   ]
  },
  {
   "cell_type": "markdown",
   "metadata": {},
   "source": [
    "So, we see that the correlation here is clearly positive and somewhat strong, but not as strong as previously thought when observing only pricing levels."
   ]
  },
  {
   "cell_type": "markdown",
   "metadata": {},
   "source": [
    "## linear regression\n",
    "Now we can attempt to regress EA using ATVI. First, we'll need to drop the NA rows obtained from performing `pct_change()`."
   ]
  },
  {
   "cell_type": "code",
   "execution_count": 103,
   "metadata": {
    "collapsed": true
   },
   "outputs": [],
   "source": [
    "atvi_c_delta = atvi_c_delta.dropna()\n",
    "ea_c_delta = ea_c_delta.dropna()"
   ]
  },
  {
   "cell_type": "code",
   "execution_count": 121,
   "metadata": {
    "collapsed": false
   },
   "outputs": [
    {
     "data": {
      "text/plain": [
       "LinearRegression(copy_X=True, fit_intercept=True, n_jobs=1, normalize=False)"
      ]
     },
     "execution_count": 121,
     "metadata": {},
     "output_type": "execute_result"
    }
   ],
   "source": [
    "regressor = LinearRegression()\n",
    "regressor.fit(atvi_c_delta, ea_c_delta[\"close_price\"])"
   ]
  },
  {
   "cell_type": "code",
   "execution_count": 132,
   "metadata": {
    "collapsed": false
   },
   "outputs": [
    {
     "name": "stdout",
     "output_type": "stream",
     "text": [
      "r2: 0.4941931443833446\n",
      "m: [ 0.62135065]\n",
      "b: 0.00042779785568627937\n"
     ]
    }
   ],
   "source": [
    "print(\"r2: {}\".format(regressor.score(atvi_c_delta, ea_c_delta[\"close_price\"])))\n",
    "print(\"m: {}\".format(regressor.coef_))\n",
    "print(\"b: {}\".format(regressor.intercept_))"
   ]
  },
  {
   "cell_type": "code",
   "execution_count": 135,
   "metadata": {
    "collapsed": false
   },
   "outputs": [
    {
     "data": {
      "text/plain": [
       "begins_at\n",
       "2017-07-06   -0.009447\n",
       "2017-07-07    0.025963\n",
       "Name: close_price, dtype: float64"
      ]
     },
     "execution_count": 135,
     "metadata": {},
     "output_type": "execute_result"
    }
   ],
   "source": [
    "atvi_c_delta[\"close_price\"][:2]"
   ]
  },
  {
   "cell_type": "code",
   "execution_count": 139,
   "metadata": {
    "collapsed": false
   },
   "outputs": [
    {
     "data": {
      "text/plain": [
       "<matplotlib.legend.Legend at 0x11622fa58>"
      ]
     },
     "execution_count": 139,
     "metadata": {},
     "output_type": "execute_result"
    },
    {
     "data": {
      "image/png": "[encoded data removed]",
      "text/plain": [
       "<matplotlib.figure.Figure at 0x1152e3080>"
      ]
     },
     "metadata": {},
     "output_type": "display_data"
    }
   ],
   "source": [
    "plt.scatter(atvi_c_delta[\"close_price\"], ea_c_delta[\"close_price\"], label=\"real\")\n",
    "plt.plot(atvi_c_delta[\"close_price\"], regressor.predict(atvi_c_delta), label=\"predict\", color=\"red\")\n",
    "plt.legend()"
   ]
  }
 ],
 "metadata": {
  "kernelspec": {
   "display_name": "Python 3",
   "language": "python",
   "name": "python3"
  },
  "language_info": {
   "codemirror_mode": {
    "name": "ipython",
    "version": 3
   },
   "file_extension": ".py",
   "mimetype": "text/x-python",
   "name": "python",
   "nbconvert_exporter": "python",
   "pygments_lexer": "ipython3",
   "version": "3.4.5"
  }
 },
 "nbformat": 4,
 "nbformat_minor": 2
}
